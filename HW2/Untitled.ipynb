{
 "cells": [
  {
   "cell_type": "code",
   "execution_count": 5,
   "metadata": {
    "collapsed": false
   },
   "outputs": [],
   "source": [
    "import numpy as np\n",
    "import matplotlib.pyplot as plt\n",
    "way2Para = np.loadtxt('way2Para.csv', delimiter=',')\n",
    "way2Ser = np.loadtxt('way2Ser.csv', delimiter=',')\n",
    "way1Para = np.loadtxt('way1Para.csv', delimiter=',')\n",
    "way1Ser = np.loadtxt('way1Ser.csv', delimiter=',')"
   ]
  },
  {
   "cell_type": "code",
   "execution_count": 8,
   "metadata": {
    "collapsed": false
   },
   "outputs": [],
   "source": [
    "legends = []\n",
    "plt.figure(figsize=(10.0, 5.0))\n",
    "x_axis = [x for x, y in  way2Para];\n",
    "way2_para_y = [y for x, y in  way2Para];\n",
    "way2_ser_y = [y for x, y in  way2Ser];\n",
    "line, = plt.plot(x_axis, way2_para_y, label=\"way2 parallel\")\n",
    "legends.append(line)\n",
    "line, = plt.plot(x_axis, way2_ser_y, label=\"way2 serial\")\n",
    "legends.append(line)\n",
    "plt.legend(handles=legends)\n",
    "plt.ylabel('Time ns')\n",
    "plt.xlabel('Matrix size, 2^n')\n",
    "# plt.show()\n",
    "plt.savefig('way2')"
   ]
  },
  {
   "cell_type": "code",
   "execution_count": 9,
   "metadata": {
    "collapsed": false
   },
   "outputs": [],
   "source": [
    "legends = []\n",
    "plt.figure(figsize=(10.0, 5.0))\n",
    "x_axis = [x for x, y in  way1Para];\n",
    "way1_para_y = [y for x, y in  way1Para];\n",
    "way1_ser_y = [y for x, y in  way1Ser];\n",
    "line, = plt.plot(x_axis, way1_para_y, label=\"way1 parallel\")\n",
    "legends.append(line)\n",
    "line, = plt.plot(x_axis, way1_ser_y, label=\"way1 serial\")\n",
    "legends.append(line)\n",
    "plt.legend(handles=legends)\n",
    "plt.ylabel('Time ns')\n",
    "plt.xlabel('Matrix size, 2^n')\n",
    "# plt.show()\n",
    "plt.savefig('way1')"
   ]
  },
  {
   "cell_type": "code",
   "execution_count": 4,
   "metadata": {
    "collapsed": false
   },
   "outputs": [
    {
     "data": {
      "text/plain": [
       "array([[  4.00000000e+00,   2.04470000e+04],\n",
       "       [  5.00000000e+00,   7.57200000e+04],\n",
       "       [  6.00000000e+00,   3.06873000e+05],\n",
       "       [  7.00000000e+00,   1.18755400e+06],\n",
       "       [  8.00000000e+00,   4.94728700e+06],\n",
       "       [  9.00000000e+00,   2.03211370e+07],\n",
       "       [  1.00000000e+01,   8.65746630e+07],\n",
       "       [  1.10000000e+01,   3.64740839e+08]])"
      ]
     },
     "execution_count": 4,
     "metadata": {},
     "output_type": "execute_result"
    }
   ],
   "source": [
    "way2Ser"
   ]
  },
  {
   "cell_type": "code",
   "execution_count": null,
   "metadata": {
    "collapsed": true
   },
   "outputs": [],
   "source": []
  }
 ],
 "metadata": {
  "kernelspec": {
   "display_name": "Python [default]",
   "language": "python",
   "name": "python2"
  },
  "language_info": {
   "codemirror_mode": {
    "name": "ipython",
    "version": 2
   },
   "file_extension": ".py",
   "mimetype": "text/x-python",
   "name": "python",
   "nbconvert_exporter": "python",
   "pygments_lexer": "ipython2",
   "version": "2.7.13"
  }
 },
 "nbformat": 4,
 "nbformat_minor": 2
}
